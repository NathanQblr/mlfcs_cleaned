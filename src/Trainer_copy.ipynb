{
 "cells": [
  {
   "cell_type": "code",
   "execution_count": 1,
   "metadata": {},
   "outputs": [],
   "source": [
    "from module import MlfcsTrainer\n",
    "import pandas as pd\n",
    "import joblib"
   ]
  },
  {
   "cell_type": "markdown",
   "metadata": {},
   "source": [
    "1 - Load the train set"
   ]
  },
  {
   "cell_type": "code",
   "execution_count": 2,
   "metadata": {},
   "outputs": [],
   "source": [
    "training_set = pd.read_pickle('../dat/training_set_4models.pk')"
   ]
  },
  {
   "cell_type": "code",
   "execution_count": 3,
   "metadata": {},
   "outputs": [
    {
     "name": "stdout",
     "output_type": "stream",
     "text": [
      "7626\n"
     ]
    }
   ],
   "source": [
    "idx = (training_set['Model']=='MB')&(training_set['Time window']==2.0)\n",
    "print(idx.sum())"
   ]
  },
  {
   "cell_type": "code",
   "execution_count": null,
   "metadata": {},
   "outputs": [],
   "source": [
    "#Compute your test\n",
    "data = []\n",
    "for i in range(4):\n",
    "    path = '/Users/nathanquiblier/Codes_Inria_Nathan/Projectscode/Datas/FCS_RWF_2s/data_rwf'+str(i)+'.pk'\n",
    "    data.append(pd.read_pickle(path))\n",
    "\n",
    "\n",
    "data_rwf = pd.concat(data)\n",
    "data_rwf.loc[data_rwf['Model']=='RWF','D'] = 2*data_rwf.loc[data_rwf['Model']=='RWF','D']\n",
    "data_rwf = data_rwf.loc[data_rwf['D']<10,:]\n",
    "\n",
    "training_set = pd.concat((training_set,data_rwf.sample(n=idx.sum())))\n"
   ]
  },
  {
   "cell_type": "code",
   "execution_count": 5,
   "metadata": {},
   "outputs": [],
   "source": [
    "training_set.to_pickle('../data/train_grid')"
   ]
  },
  {
   "cell_type": "code",
   "execution_count": 3,
   "metadata": {},
   "outputs": [],
   "source": [
    "training_set = training_set.loc[training_set['Model']=='MB',:]"
   ]
  },
  {
   "cell_type": "code",
   "execution_count": 4,
   "metadata": {},
   "outputs": [],
   "source": [
    "Module = joblib.load('../data/new_model_trained_4models.pk')"
   ]
  },
  {
   "cell_type": "code",
   "execution_count": 5,
   "metadata": {},
   "outputs": [
    {
     "name": "stderr",
     "output_type": "stream",
     "text": [
      "/Users/nathanquiblier/Codes_Inria_Nathan/Projectscode/MLFCS/src/module.py:178: RuntimeWarning: divide by zero encountered in divide\n",
      "  autoco = np.divide(autoco,autoco[:,:5].mean(axis=1).reshape(autoco.shape[0],1))\n",
      "/Users/nathanquiblier/Codes_Inria_Nathan/Projectscode/MLFCS/src/module.py:178: RuntimeWarning: invalid value encountered in divide\n",
      "  autoco = np.divide(autoco,autoco[:,:5].mean(axis=1).reshape(autoco.shape[0],1))\n"
     ]
    }
   ],
   "source": [
    "Module.load_data(training_set)"
   ]
  },
  {
   "cell_type": "code",
   "execution_count": 6,
   "metadata": {},
   "outputs": [
    {
     "name": "stdout",
     "output_type": "stream",
     "text": [
      "Size training D = 378180\n"
     ]
    }
   ],
   "source": [
    "Module.train_predictor_total_D()"
   ]
  },
  {
   "cell_type": "code",
   "execution_count": 7,
   "metadata": {},
   "outputs": [
    {
     "data": {
      "text/plain": [
       "\"training_set = pd.read_pickle('../dat/training_set.pk')\\ntraining_set['Model'] = training_set['Model'].astype('category')\\ncount = training_set['Model'].value_counts()\\ncount_time = training_set['Time window'].value_counts()\\nprint(count)\\nprint(count_time)\\nsize_by_model =  count[0]\\nprint(size_by_model)\\ndata_rwf = []\\nfor dataset in range(8):\\n    data_rwf.append(pd.read_pickle('/Users/nathanquiblier/Desktop/DATA RWF/data_rwf'+str(dataset)+'.pk'))\\ndata_rwf = pd.concat(data_rwf)\\npd.concat([training_set,data_rwf.sample(n=size_by_model)]).to_pickle('../dat/training_set_4models.pk')\""
      ]
     },
     "execution_count": 7,
     "metadata": {},
     "output_type": "execute_result"
    }
   ],
   "source": [
    "\"\"\"training_set = pd.read_pickle('../dat/training_set.pk')\n",
    "training_set['Model'] = training_set['Model'].astype('category')\n",
    "count = training_set['Model'].value_counts()\n",
    "count_time = training_set['Time window'].value_counts()\n",
    "print(count)\n",
    "print(count_time)\n",
    "size_by_model =  count[0]\n",
    "print(size_by_model)\n",
    "data_rwf = []\n",
    "for dataset in range(8):\n",
    "    data_rwf.append(pd.read_pickle('/Users/nathanquiblier/Desktop/DATA RWF/data_rwf'+str(dataset)+'.pk'))\n",
    "data_rwf = pd.concat(data_rwf)\n",
    "pd.concat([training_set,data_rwf.sample(n=size_by_model)]).to_pickle('../dat/training_set_4models.pk')\"\"\""
   ]
  },
  {
   "cell_type": "code",
   "execution_count": 8,
   "metadata": {},
   "outputs": [
    {
     "data": {
      "text/plain": [
       "\"test_set = pd.read_pickle('../dat/test_set.pk')\\ntest_set['Model'] = test_set['Model'].astype('category')\\ncount = test_set['Model'].value_counts()\\ncount_time = test_set['Time window'].value_counts()\\nprint(count)\\nprint(count_time)\\nsize_by_model =  count[0]\\nprint(size_by_model)\\ndata_rwf = []\\nfor dataset in range(8,12):\\n    data_rwf.append(pd.read_pickle('/Users/nathanquiblier/Desktop/DATA RWF/data_rwf'+str(dataset)+'.pk'))\\ndata_rwf = pd.concat(data_rwf)\\npd.concat([test_set,data_rwf.sample(n=size_by_model)]).to_pickle('../dat/test_set_4models.pk')\""
      ]
     },
     "execution_count": 8,
     "metadata": {},
     "output_type": "execute_result"
    }
   ],
   "source": [
    "\"\"\"test_set = pd.read_pickle('../dat/test_set.pk')\n",
    "test_set['Model'] = test_set['Model'].astype('category')\n",
    "count = test_set['Model'].value_counts()\n",
    "count_time = test_set['Time window'].value_counts()\n",
    "print(count)\n",
    "print(count_time)\n",
    "size_by_model =  count[0]\n",
    "print(size_by_model)\n",
    "data_rwf = []\n",
    "for dataset in range(8,12):\n",
    "    data_rwf.append(pd.read_pickle('/Users/nathanquiblier/Desktop/DATA RWF/data_rwf'+str(dataset)+'.pk'))\n",
    "data_rwf = pd.concat(data_rwf)\n",
    "pd.concat([test_set,data_rwf.sample(n=size_by_model)]).to_pickle('../dat/test_set_4models.pk')\"\"\""
   ]
  },
  {
   "cell_type": "markdown",
   "metadata": {},
   "source": [
    "2 - Initialize the module with the training set"
   ]
  },
  {
   "cell_type": "code",
   "execution_count": 5,
   "metadata": {},
   "outputs": [
    {
     "name": "stdout",
     "output_type": "stream",
     "text": [
      "Taille dataset 1520346\n"
     ]
    },
    {
     "ename": "",
     "evalue": "",
     "output_type": "error",
     "traceback": [
      "\u001b[1;31mThe Kernel crashed while executing code in the current cell or a previous cell. \n",
      "\u001b[1;31mPlease review the code in the cell(s) to identify a possible cause of the failure. \n",
      "\u001b[1;31mClick <a href='https://aka.ms/vscodeJupyterKernelCrash'>here</a> for more info. \n",
      "\u001b[1;31mView Jupyter <a href='command:jupyter.viewOutput'>log</a> for further details."
     ]
    }
   ],
   "source": [
    "Module = MlfcsTrainer(training_set)"
   ]
  },
  {
   "cell_type": "markdown",
   "metadata": {},
   "source": [
    "3 - Train the module on the training set"
   ]
  },
  {
   "cell_type": "code",
   "execution_count": null,
   "metadata": {},
   "outputs": [
    {
     "name": "stdout",
     "output_type": "stream",
     "text": [
      "Classifier ok\n",
      "Alpha ok\n",
      "D ok\n",
      "Size training D = 538426\n",
      "The end\n"
     ]
    }
   ],
   "source": [
    "Module.train_model()"
   ]
  },
  {
   "cell_type": "markdown",
   "metadata": {},
   "source": [
    "4 - Save the trained module in a pickle"
   ]
  },
  {
   "cell_type": "code",
   "execution_count": null,
   "metadata": {},
   "outputs": [
    {
     "data": {
      "text/plain": [
       "['../data/new_model_trained_4modelsDlast.pk']"
      ]
     },
     "execution_count": 7,
     "metadata": {},
     "output_type": "execute_result"
    }
   ],
   "source": [
    "joblib.dump(Module, '../data/new_model_trained_4modelsDlastlast.pk')"
   ]
  },
  {
   "cell_type": "code",
   "execution_count": null,
   "metadata": {},
   "outputs": [],
   "source": [
    "data_test = pd.read_pickle('../dat/test_set_4models.pk')\n",
    "\n",
    "res = Module.test(data_test)\n",
    "res.to_pickle('../dat/result_test4modelsD_RWFasMB.pk')"
   ]
  },
  {
   "cell_type": "markdown",
   "metadata": {},
   "source": [
    "5 - Load the trained module saved as a pickle"
   ]
  },
  {
   "cell_type": "code",
   "execution_count": 12,
   "metadata": {},
   "outputs": [],
   "source": [
    "Module = joblib.load('../data/new_model_trained_4models.pk')"
   ]
  }
 ],
 "metadata": {
  "kernelspec": {
   "display_name": "venvMLFCS",
   "language": "python",
   "name": "python3"
  },
  "language_info": {
   "codemirror_mode": {
    "name": "ipython",
    "version": 3
   },
   "file_extension": ".py",
   "mimetype": "text/x-python",
   "name": "python",
   "nbconvert_exporter": "python",
   "pygments_lexer": "ipython3",
   "version": "3.9.9"
  }
 },
 "nbformat": 4,
 "nbformat_minor": 2
}
